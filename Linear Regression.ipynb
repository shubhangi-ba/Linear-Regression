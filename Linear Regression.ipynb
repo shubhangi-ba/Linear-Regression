{
 "cells": [
  {
   "cell_type": "markdown",
   "id": "driven-bracelet",
   "metadata": {},
   "source": [
    "## Objective\n",
    "The main objective of the program is to predict the percentage of an student based on the no. of study hours. The objective has been completed using Python Supervised Machine Learning Linear Regression concept."
   ]
  },
  {
   "cell_type": "markdown",
   "id": "unlimited-bacteria",
   "metadata": {},
   "source": [
    "## Linear Regression with Python\n",
    "<p>Linear regression is a statistical approach for modelling relationship between a dependent variable with a given set of independent variables. Simple linear regression is an approach for predicting a response using a single feature. We are going to use the equation <b>'y = a + bx'</b> where <b>'a'</b> is the constant term or the <b>'y'</b> intercept. It is the value of the dependent variable when <b>'x = 0'</b> and\n",
    "<b>'b'</b> is the coefficient of the independent variable. It is also known as the slope and gives the rate of change of the dependent variable.</p>\n",
    "<p>Before moving on, we will summarize 2 basic steps of Machine Learning as per below:</p>\n",
    "<ol>\n",
    "    <li>\n",
    "        <b>Training: </b>Training a model simply means learning (determining) good values for all the weights and the bias from labeled examples. In supervised learning, a machine learning algorithm builds a model by examining many examples and attempting to find a model that minimizes loss; this process is called empirical risk minimization.\n",
    "    </li>\n",
    "    <li><b>Prediction: </b>Prediction refers to the output of an algorithm after it has been trained on a historical dataset and applied to new data when forecasting the likelihood of a particular outcome, such as whether or not a customer will churn in 30 days.\n",
    "    </li>\n",
    "</ol>\n",
    "<h4>Libraries Used</h4>\n",
    "<ul>\n",
    "    <li><b>SKLearn: </b>Scikit-learn is probably the most useful library for machine learning in Python. The sklearn library contains a lot of efficient tools for machine learning and statistical modeling including classification, regression, clustering and dimensionality reduction.</li>\n",
    "    <li><b>Numpy: </b>NumPy is a Python library used for working with arrays. It also has functions for working in domain of linear algebra, fourier transform, and matrices. NumPy was created in 2005 by Travis Oliphant. It is an open source project and you can use it freely. NumPy stands for Numerical Python.</li>\n",
    "    <li><b>Pandas: </b>Pandas is the most popular python library that is used for data analysis. It provides highly optimized performance with back-end source code is purely written in C or Python. We can analyze data in pandas with: Series.</li>\n",
    "    <li><b>Matplotlib: </b>matplotlib. pyplot is a collection of command style functions that make matplotlib work like MATLAB. Each pyplot function makes some change to a figure: e.g., creates a figure, creates a plotting area in a figure, plots some lines in a plotting area, decorates the plot with labels, etc.</li>\n",
    "</ul>"
   ]
  },
  {
   "cell_type": "code",
   "execution_count": 6,
   "id": "advanced-cornell",
   "metadata": {},
   "outputs": [
    {
     "name": "stdout",
     "output_type": "stream",
     "text": [
      "Defaulting to user installation because normal site-packages is not writeable\n",
      "Requirement already satisfied: numpy in c:\\users\\shubhangi\\appdata\\roaming\\python\\python39\\site-packages (1.19.5)\n",
      "Requirement already satisfied: pandas in c:\\users\\shubhangi\\appdata\\roaming\\python\\python39\\site-packages (1.2.1)\n",
      "Requirement already satisfied: matplotlib in c:\\program files\\python39\\lib\\site-packages (3.3.4)\n",
      "Requirement already satisfied: scikit-learn in c:\\users\\shubhangi\\appdata\\roaming\\python\\python39\\site-packages (0.24.1)\n",
      "Requirement already satisfied: pyparsing!=2.0.4,!=2.1.2,!=2.1.6,>=2.0.3 in c:\\users\\shubhangi\\appdata\\roaming\\python\\python39\\site-packages (from matplotlib) (2.4.7)\n",
      "Requirement already satisfied: kiwisolver>=1.0.1 in c:\\program files\\python39\\lib\\site-packages (from matplotlib) (1.3.1)\n",
      "Requirement already satisfied: pillow>=6.2.0 in c:\\program files\\python39\\lib\\site-packages (from matplotlib) (8.1.0)\n",
      "Requirement already satisfied: python-dateutil>=2.1 in c:\\users\\shubhangi\\appdata\\roaming\\python\\python39\\site-packages (from matplotlib) (2.8.1)\n",
      "Requirement already satisfied: cycler>=0.10 in c:\\program files\\python39\\lib\\site-packages (from matplotlib) (0.10.0)\n",
      "Requirement already satisfied: six in c:\\users\\shubhangi\\appdata\\roaming\\python\\python39\\site-packages (from cycler>=0.10->matplotlib) (1.15.0)\n",
      "Requirement already satisfied: pytz>=2017.3 in c:\\users\\shubhangi\\appdata\\roaming\\python\\python39\\site-packages (from pandas) (2020.5)\n",
      "Requirement already satisfied: scipy>=0.19.1 in c:\\users\\shubhangi\\appdata\\roaming\\python\\python39\\site-packages (from scikit-learn) (1.6.0)\n",
      "Requirement already satisfied: joblib>=0.11 in c:\\users\\shubhangi\\appdata\\roaming\\python\\python39\\site-packages (from scikit-learn) (1.0.1)\n",
      "Requirement already satisfied: threadpoolctl>=2.0.0 in c:\\users\\shubhangi\\appdata\\roaming\\python\\python39\\site-packages (from scikit-learn) (2.1.0)\n"
     ]
    }
   ],
   "source": [
    "# Install all required libraries\n",
    "! pip install numpy pandas matplotlib scikit-learn"
   ]
  },
  {
   "cell_type": "code",
   "execution_count": 7,
   "id": "tired-wildlife",
   "metadata": {},
   "outputs": [],
   "source": [
    "# Importing all of the required libraries\n",
    "import numpy as np\n",
    "import pandas as pd\n",
    "import matplotlib.pyplot as plt\n",
    "%matplotlib inline"
   ]
  },
  {
   "cell_type": "code",
   "execution_count": 8,
   "id": "conditional-seventh",
   "metadata": {},
   "outputs": [
    {
     "name": "stdout",
     "output_type": "stream",
     "text": [
      "Data imported successfully.\n"
     ]
    },
    {
     "data": {
      "text/html": [
       "<div>\n",
       "<style scoped>\n",
       "    .dataframe tbody tr th:only-of-type {\n",
       "        vertical-align: middle;\n",
       "    }\n",
       "\n",
       "    .dataframe tbody tr th {\n",
       "        vertical-align: top;\n",
       "    }\n",
       "\n",
       "    .dataframe thead th {\n",
       "        text-align: right;\n",
       "    }\n",
       "</style>\n",
       "<table border=\"1\" class=\"dataframe\">\n",
       "  <thead>\n",
       "    <tr style=\"text-align: right;\">\n",
       "      <th></th>\n",
       "      <th>Hours</th>\n",
       "      <th>Scores</th>\n",
       "    </tr>\n",
       "  </thead>\n",
       "  <tbody>\n",
       "    <tr>\n",
       "      <th>0</th>\n",
       "      <td>2.5</td>\n",
       "      <td>21</td>\n",
       "    </tr>\n",
       "    <tr>\n",
       "      <th>1</th>\n",
       "      <td>5.1</td>\n",
       "      <td>47</td>\n",
       "    </tr>\n",
       "    <tr>\n",
       "      <th>2</th>\n",
       "      <td>3.2</td>\n",
       "      <td>27</td>\n",
       "    </tr>\n",
       "    <tr>\n",
       "      <th>3</th>\n",
       "      <td>8.5</td>\n",
       "      <td>75</td>\n",
       "    </tr>\n",
       "    <tr>\n",
       "      <th>4</th>\n",
       "      <td>3.5</td>\n",
       "      <td>30</td>\n",
       "    </tr>\n",
       "    <tr>\n",
       "      <th>5</th>\n",
       "      <td>1.5</td>\n",
       "      <td>20</td>\n",
       "    </tr>\n",
       "    <tr>\n",
       "      <th>6</th>\n",
       "      <td>9.2</td>\n",
       "      <td>88</td>\n",
       "    </tr>\n",
       "    <tr>\n",
       "      <th>7</th>\n",
       "      <td>5.5</td>\n",
       "      <td>60</td>\n",
       "    </tr>\n",
       "    <tr>\n",
       "      <th>8</th>\n",
       "      <td>8.3</td>\n",
       "      <td>81</td>\n",
       "    </tr>\n",
       "    <tr>\n",
       "      <th>9</th>\n",
       "      <td>2.7</td>\n",
       "      <td>25</td>\n",
       "    </tr>\n",
       "  </tbody>\n",
       "</table>\n",
       "</div>"
      ],
      "text/plain": [
       "   Hours  Scores\n",
       "0    2.5      21\n",
       "1    5.1      47\n",
       "2    3.2      27\n",
       "3    8.5      75\n",
       "4    3.5      30\n",
       "5    1.5      20\n",
       "6    9.2      88\n",
       "7    5.5      60\n",
       "8    8.3      81\n",
       "9    2.7      25"
      ]
     },
     "execution_count": 8,
     "metadata": {},
     "output_type": "execute_result"
    }
   ],
   "source": [
    "# Importing the dataset\n",
    "DATA_URL = \"http://bit.ly/w-data\"\n",
    "dataset = pd.read_csv(DATA_URL)\n",
    "print(\"Data imported successfully.\")\n",
    "dataset.head(10)"
   ]
  },
  {
   "cell_type": "markdown",
   "id": "pretty-chess",
   "metadata": {},
   "source": [
    "Based on the observations we have predict score if a student studies for 9.25 hrs/day. But, before predicting the score let's plot a graph for the dataset."
   ]
  },
  {
   "cell_type": "code",
   "execution_count": 9,
   "id": "shaped-switch",
   "metadata": {},
   "outputs": [
    {
     "data": {
      "image/png": "[encoded data removed]",
      "text/plain": [
       "<Figure size 432x288 with 1 Axes>"
      ]
     },
     "metadata": {
      "needs_background": "light"
     },
     "output_type": "display_data"
    }
   ],
   "source": [
    "# Plotting the graph\n",
    "dataset.plot(x='Hours', y='Scores', style='o')\n",
    "plt.title('Hours vs Percentage')  \n",
    "plt.xlabel('Hours Studied')  \n",
    "plt.ylabel('Percentage Score')  \n",
    "plt.show()"
   ]
  },
  {
   "cell_type": "markdown",
   "id": "compressed-trauma",
   "metadata": {},
   "source": [
    "<p><b>After plotting all values of the dataset we can see, they all are forming a line, and we can also see that there is a relation between Hours Studied and Percentage Score, that’s why we call it linear.</b></p>"
   ]
  },
  {
   "cell_type": "code",
   "execution_count": 10,
   "id": "mature-patrol",
   "metadata": {},
   "outputs": [],
   "source": [
    "# Preparing the data\n",
    "x = dataset.iloc[:, :-1].values # exclude last column\n",
    "y = dataset.iloc[:, 1].values # exclude first column"
   ]
  },
  {
   "cell_type": "markdown",
   "id": "bright-insulation",
   "metadata": {},
   "source": [
    "<h4>Code Explanation</h4>\n",
    "<ul>\n",
    "    <li><b>x: </b>the first column which contains Hours Studied</li>\n",
    "    <li><b>y: </b>the first column which contains Percentage Score</li>\n",
    "</ul>"
   ]
  },
  {
   "cell_type": "code",
   "execution_count": 11,
   "id": "funded-injury",
   "metadata": {},
   "outputs": [],
   "source": [
    "# Split our data into two sets, first for training and second for testing.\n",
    "from sklearn.model_selection import train_test_split\n",
    "x_train, x_test, y_train, y_test = train_test_split(x, y, test_size=1/3, random_state=0)"
   ]
  },
  {
   "cell_type": "markdown",
   "id": "rolled-jenny",
   "metadata": {},
   "source": [
    "<h4>Code Explanation</h4>\n",
    "<ul>\n",
    "    <li><b>test_size: </b>As we are splitting our dataset into two parts so this parameter will set the ratio of test set compare to dataset i.e. if we have 60 observations in our dataset then 10 will be assigned to the test set and rest of data will automatically be assigned to train set.</li>\n",
    "    <li><b>random_state: </b>This is the seed for the random number generator. We can put an instance of the RandomState class as well. If we leave it blank or 0, the RandomState instance used by np.random will be used instead.</li>\n",
    "</ul>"
   ]
  },
  {
   "cell_type": "code",
   "execution_count": 12,
   "id": "ordinary-irrigation",
   "metadata": {},
   "outputs": [
    {
     "data": {
      "text/plain": [
       "LinearRegression()"
      ]
     },
     "execution_count": 12,
     "metadata": {},
     "output_type": "execute_result"
    }
   ],
   "source": [
    "# Build the Regression Model for training set\n",
    "from sklearn.linear_model import LinearRegression\n",
    "regressor = LinearRegression()\n",
    "regressor.fit(x_train, y_train)"
   ]
  },
  {
   "cell_type": "markdown",
   "id": "impressed-polish",
   "metadata": {},
   "source": [
    "<h4>Code Explanation</h4>\n",
    "<ul>\n",
    "    <li><b>regressor = LinearRegression(): </b>The training model which will implement Linear Regression.</li>\n",
    "    <li><b>regressor.fit(x_train, y_train): </b>In this line, we pass the <b>'x_train'</b> which contains value of Hours Studied and <b>'y_train'</b> which contains values of Percentage Score to form up the model. This is the training process.</li>\n",
    "</ul>"
   ]
  },
  {
   "cell_type": "code",
   "execution_count": 13,
   "id": "incorrect-communications",
   "metadata": {},
   "outputs": [
    {
     "data": {
      "image/png": "[encoded data removed]",
      "text/plain": [
       "<Figure size 432x288 with 1 Axes>"
      ]
     },
     "metadata": {
      "needs_background": "light"
     },
     "output_type": "display_data"
    },
    {
     "data": {
      "image/png": "[encoded data removed]",
      "text/plain": [
       "<Figure size 432x288 with 1 Axes>"
      ]
     },
     "metadata": {
      "needs_background": "light"
     },
     "output_type": "display_data"
    }
   ],
   "source": [
    "# Visulalize the testing set and training set data\n",
    "# For that we will create a function first, which can be used to plot the graph\n",
    "def plot_graph(plotter, x, y, title, x_label, y_label):\n",
    "    plotter.scatter(x, y, color='red')\n",
    "    plotter.plot(x, regressor.predict(x), color='blue')\n",
    "    plotter.title(title)\n",
    "    plotter.xlabel(x_label)\n",
    "    plotter.ylabel(y_label)\n",
    "    plotter.show()\n",
    "\n",
    "plot_graph(plt, x_train, y_train, 'Hours vs Percentage (Training Set)', 'Hours Studied', 'Percentage Score')\n",
    "plot_graph(plt, x_test, y_test, 'Hours vs Percentage (Testing Set)', 'Hours Studied', 'Percentage Score')"
   ]
  },
  {
   "cell_type": "markdown",
   "id": "increasing-kennedy",
   "metadata": {},
   "source": [
    "<p>\n",
    "    <b>Now as we are ready with the regression model, let's start making predictions.</b>\n",
    "</p>"
   ]
  },
  {
   "cell_type": "code",
   "execution_count": 14,
   "id": "phantom-contribution",
   "metadata": {},
   "outputs": [
    {
     "data": {
      "text/html": [
       "<p><b>According to the prediction made by the model if a student studies for 9.5 hours then the student can score around 94.57</b></p>"
      ],
      "text/plain": [
       "<IPython.core.display.HTML object>"
      ]
     },
     "metadata": {},
     "output_type": "display_data"
    }
   ],
   "source": [
    "from IPython.core.display import display, HTML\n",
    "predicted_score = regressor.predict(np.array([9.5]).reshape(1, 1))\n",
    "display(HTML('<p><b>According to the prediction made by the model if a student studies for 9.5 hours then the student can score around ' + str(round(predicted_score[0], 2)) + '</b></p>'))"
   ]
  },
  {
   "cell_type": "markdown",
   "id": "acting-bonus",
   "metadata": {},
   "source": [
    "<h4>Code Explanation</h4>\n",
    "<ul>\n",
    "    <li><b>predicted_score = regressor.predict(): </b>The regressor.predict() function expects a 2D array and as we have only single element in the array so we are calling reshape also. </li>\n",
    "    <li><b>display(): </b>The display function is used here to show some html content to the frontend. The documentation can be found <a href=\"https://ipython.org/ipython-doc/2/api/generated/IPython.core.display.html\" target=\"_blank\">here</a></li>\n",
    "    <li><b>HTML(): </b>The HTML function is used here to convert the plain HTML string and give that to display function for processing. The documentation can be found <a href=\"https://ipython.org/ipython-doc/2/api/generated/IPython.core.display.html\" target=\"_blank\">here</a></li>\n",
    "</ul>"
   ]
  },
  {
   "cell_type": "code",
   "execution_count": 15,
   "id": "raised-sapphire",
   "metadata": {},
   "outputs": [
    {
     "data": {
      "application/javascript": [
       "var reqElements = document.querySelectorAll(\".jp-OutputArea-child\");\n",
       "for(var x=0; x<reqElements.length; x++){\n",
       "    if(reqElements[x].hasChildNodes()){\n",
       "        var thisChilds = reqElements[x].childNodes;\n",
       "        for(var y=0; y<thisChilds.length; y++){\n",
       "            if(thisChilds[y].classList.contains(\"jp-RenderedImage\")){\n",
       "                reqElements[x].style.display = \"inline-block\";\n",
       "                reqElements[x].style.marginLeft = \"60px\";\n",
       "            }\n",
       "        }\n",
       "    }\n",
       "}\n"
      ],
      "text/plain": [
       "<IPython.core.display.Javascript object>"
      ]
     },
     "metadata": {},
     "output_type": "display_data"
    }
   ],
   "source": [
    "%%js\n",
    "var reqElements = document.querySelectorAll(\".jp-OutputArea-child\");\n",
    "for(var x=0; x<reqElements.length; x++){\n",
    "    if(reqElements[x].hasChildNodes()){\n",
    "        var thisChilds = reqElements[x].childNodes;\n",
    "        for(var y=0; y<thisChilds.length; y++){\n",
    "            if(thisChilds[y].classList.contains(\"jp-RenderedImage\")){\n",
    "                reqElements[x].style.display = \"inline-block\";\n",
    "                reqElements[x].style.marginLeft = \"60px\";\n",
    "            }\n",
    "        }\n",
    "    }\n",
    "}"
   ]
  },
  {
   "cell_type": "markdown",
   "id": "applied-liberal",
   "metadata": {},
   "source": [
    "<h4>Code Explanation</h4>\n",
    "<ul>\n",
    "    <li>In the above code we have used %%js built-in cell magic command of IPython. The %%js command is used to run some JavaScript code into the cell.</li>\n",
    "    <li>The JavaScript code is written to find all of the graphs and display them inline to the previous graph. By default the graphs appear vertically one after another and to chage this and show them vertically inline we are using this JavaScript code.</li>\n",
    "    <li>A documentation on magic commands can be found <a href=\"https://ipython.readthedocs.io/en/stable/interactive/magics.html\" target=\"_blank\">here</a></li>\n",
    "</ul>"
   ]
  },
  {
   "cell_type": "markdown",
   "id": "coupled-display",
   "metadata": {},
   "source": [
    "<h4><b>Author:</b> Shubhangi</h4>"
   ]
  }
 ],
 "metadata": {
  "kernelspec": {
   "display_name": "Python 3",
   "language": "python",
   "name": "python3"
  },
  "language_info": {
   "codemirror_mode": {
    "name": "ipython",
    "version": 3
   },
   "file_extension": ".py",
   "mimetype": "text/x-python",
   "name": "python",
   "nbconvert_exporter": "python",
   "pygments_lexer": "ipython3",
   "version": "3.9.1"
  }
 },
 "nbformat": 4,
 "nbformat_minor": 5
}
